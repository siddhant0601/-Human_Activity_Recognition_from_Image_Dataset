{
 "cells": [
  {
   "cell_type": "code",
   "execution_count": null,
   "metadata": {},
   "outputs": [],
   "source": [
    "import os\n",
    "import numpy as np\n",
    "import pandas as pd\n",
    "from PIL import Image\n",
    "from skimage.feature import hog\n",
    "from skimage.color import rgb2gray\n",
    "from sklearn.model_selection import train_test_split, GridSearchCV\n",
    "from sklearn.ensemble import RandomForestClassifier\n",
    "from sklearn.metrics import accuracy_score, classification_report\n",
    "from sklearn.decomposition import PCA\n",
    "from imblearn.over_sampling import SMOTE\n",
    "import cv2\n",
    "\n",
    "image_labels=np.array(image_labels)\n",
    "combined_features = np.concatenate([hogFeatures_np, histoFeatures_np,lbpFeatures_np], axis=1)\n",
    "X_train, X_test, y_train, y_test = train_test_split(combined_features, image_labels, test_size=0.2, random_state=42)\n",
    "smote = SMOTE(random_state=42)\n",
    "X_train, y_train = smote.fit_resample(X_train, y_train)\n",
    "rf_model = RandomForestClassifier(random_state=42,n_estimators=300,min_samples_leaf=2,min_samples_split=10)\n",
    "rf_model.fit(X_train, y_train)\n",
    "y_pred = rf_model.predict(X_test)\n",
    "accuracy = accuracy_score(y_test, y_pred)\n",
    "print(f\"Model Accuracy: {accuracy}\")\n",
    "print(\"Classification Report:\")\n",
    "print(classification_report(y_test, y_pred))\n",
    "\n",
    "# Model Accuracy: 0.35912698412698413\n",
    "# Classification Report:\n",
    "#                     precision    recall  f1-score   support\n",
    "\n",
    "#            calling       0.23      0.18      0.21       173\n",
    "#           clapping       0.37      0.32      0.34       160\n",
    "#            cycling       0.47      0.63      0.54       186\n",
    "#            dancing       0.45      0.48      0.46       180\n",
    "#           drinking       0.24      0.14      0.18       152\n",
    "#             eating       0.35      0.78      0.49       151\n",
    "#           fighting       0.40      0.53      0.46       186\n",
    "#            hugging       0.27      0.17      0.21       151\n",
    "#           laughing       0.37      0.39      0.38       179\n",
    "# listening_to_music       0.27      0.14      0.19       176\n",
    "#            running       0.42      0.35      0.38       155\n",
    "#            sitting       0.33      0.13      0.19       163\n",
    "#           sleeping       0.41      0.41      0.41       162\n",
    "#            texting       0.30      0.24      0.27       183\n",
    "#       using_laptop       0.30      0.45      0.36       163\n",
    "\n",
    "#           accuracy                           0.36      2520\n",
    "#          macro avg       0.34      0.36      0.34      2520\n",
    "#       weighted avg       0.35      0.36      0.34      2520"
   ]
  },
  {
   "cell_type": "code",
   "execution_count": null,
   "metadata": {},
   "outputs": [],
   "source": []
  }
 ],
 "metadata": {
  "language_info": {
   "name": "python"
  }
 },
 "nbformat": 4,
 "nbformat_minor": 2
}
